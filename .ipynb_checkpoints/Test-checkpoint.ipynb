{
 "cells": [
  {
   "cell_type": "markdown",
   "metadata": {},
   "source": [
    "## Something"
   ]
  },
  {
   "cell_type": "code",
   "execution_count": 87,
   "metadata": {
    "collapsed": false
   },
   "outputs": [
    {
     "name": "stdout",
     "output_type": "stream",
     "text": [
      "[['.', 'X', '.', 'X'], ['.', '.', '.', '.'], ['.', '.', 'X', '.'], ['.', 'X', '.', '.']]\n",
      "[['.', '.', '.', '.'], ['X', '.', '.', 'X'], ['.', 'X', '.', '.'], ['.', '.', '.', 'X']]\n",
      "[['.', '.', 'X', '.'], ['.', 'X', '.', '.'], ['.', '.', '.', '.'], ['X', '.', 'X', '.']]\n",
      "icantforgetiddqd\n",
      "[['.', '.', 'X', '.'], ['.', 'X', '.', '.'], ['.', '.', '.', '.'], ['X', '.', 'X', '.']]\n",
      "[['X', '.', '.', '.'], ['.', '.', 'X', '.'], ['X', '.', '.', 'X'], ['.', '.', '.', '.']]\n",
      "[['.', 'X', '.', 'X'], ['.', '.', '.', '.'], ['.', '.', 'X', '.'], ['.', 'X', '.', '.']]\n",
      "rxqrwsfzxqxzhczy\n"
     ]
    }
   ],
   "source": [
    "def recall_password(cipher_grille, ciphered_password):\n",
    "    pass_array = []\n",
    "    \n",
    "    line_no = 0\n",
    "    for line in cipher_grille:\n",
    "        l_no = 0\n",
    "        for l in line:\n",
    "            #print(l)\n",
    "            if l == \"X\":\n",
    "                #print('line_no = '+str(line_no))\n",
    "                #print('l_no = '+str(l_no))\n",
    "                pass_array.append(ciphered_password[line_no][l_no])\n",
    "            l_no += 1\n",
    "        line_no +=1\n",
    "    \n",
    "    new_grille = [None]*4\n",
    "    for i in range(4):\n",
    "        new_grille[i] = list(['.']*4)\n",
    "\n",
    "    line_no = 0\n",
    "    for line in cipher_grille:\n",
    "        l_no = 0\n",
    "        for l in line:\n",
    "            if l == \"X\":\n",
    "                new_grille[l_no][3-line_no] = \"X\"\n",
    "            l_no += 1\n",
    "        line_no += 1\n",
    "    print(new_grille)\n",
    "    \n",
    "    line_no = 0\n",
    "    for line in new_grille:\n",
    "        l_no = 0\n",
    "        for l in line:\n",
    "            if l == \"X\":\n",
    "                pass_array.append(ciphered_password[line_no][l_no])\n",
    "            l_no += 1\n",
    "        line_no +=1\n",
    "    \n",
    "    grille3 = [None]*4\n",
    "    for i in range(4):\n",
    "        grille3[i] = list(['.']*4)\n",
    "    \n",
    "    line_no = 0\n",
    "    for line in new_grille:\n",
    "        l_no = 0\n",
    "        for l in line:\n",
    "            if l == \"X\":\n",
    "                grille3[l_no][3-line_no] = \"X\"\n",
    "            l_no += 1\n",
    "        line_no += 1\n",
    "    print(grille3)\n",
    "\n",
    "    line_no = 0\n",
    "    for line in grille3:\n",
    "        l_no = 0\n",
    "        for l in line:\n",
    "            if l == \"X\":\n",
    "                pass_array.append(ciphered_password[line_no][l_no])\n",
    "            l_no += 1\n",
    "        line_no +=1\n",
    "        \n",
    "        \n",
    "    grille4 = [None]*4\n",
    "    for i in range(4):\n",
    "        grille4[i] = list(['.']*4)\n",
    "    \n",
    "    line_no = 0\n",
    "    for line in grille3:\n",
    "        l_no = 0\n",
    "        for l in line:\n",
    "            if l == \"X\":\n",
    "                grille4[l_no][3-line_no] = \"X\"\n",
    "            l_no += 1\n",
    "        line_no += 1\n",
    "    print(grille4)\n",
    "\n",
    "    line_no = 0\n",
    "    for line in grille4:\n",
    "        l_no = 0\n",
    "        for l in line:\n",
    "            if l == \"X\":\n",
    "                pass_array.append(ciphered_password[line_no][l_no])\n",
    "            l_no += 1\n",
    "        line_no +=1\n",
    "    \n",
    "    print(\"\".join(pass_array))\n",
    "    return \"\".join(pass_array)\n",
    "\n",
    "\n",
    "if __name__ == '__main__':\n",
    "    #These \"asserts\" using only for self-checking and not necessary for auto-testing\n",
    "    assert recall_password(\n",
    "        ('X...',\n",
    "         '..X.',\n",
    "         'X..X',\n",
    "         '....'),\n",
    "        ('itdf',\n",
    "         'gdce',\n",
    "         'aton',\n",
    "         'qrdi')) == 'icantforgetiddqd', 'First example'\n",
    "\n",
    "    assert recall_password(\n",
    "        ('....',\n",
    "         'X..X',\n",
    "         '.X..',\n",
    "         '...X'),\n",
    "        ('xhwc',\n",
    "         'rsqx',\n",
    "         'xqzz',\n",
    "         'fyzr')) == 'rxqrwsfzxqxzhczy', 'Second example'\n"
   ]
  },
  {
   "cell_type": "code",
   "execution_count": 10,
   "metadata": {
    "collapsed": false
   },
   "outputs": [
    {
     "data": {
      "text/plain": [
       "['.',\n",
       " '.',\n",
       " '.',\n",
       " '.',\n",
       " '.',\n",
       " '.',\n",
       " '.',\n",
       " '.',\n",
       " '.',\n",
       " '.',\n",
       " '.',\n",
       " '.',\n",
       " '.',\n",
       " '.',\n",
       " '.',\n",
       " '.']"
      ]
     },
     "execution_count": 10,
     "metadata": {},
     "output_type": "execute_result"
    }
   ],
   "source": [
    "list(['.']*4)"
   ]
  },
  {
   "cell_type": "code",
   "execution_count": 82,
   "metadata": {
    "collapsed": false
   },
   "outputs": [
    {
     "name": "stdout",
     "output_type": "stream",
     "text": [
      "[['.', '.', '.', 'X'], ['.', '.', '.', '.'], ['.', '.', '.', '.'], ['.', '.', '.', '.']]\n"
     ]
    }
   ],
   "source": [
    "new_grille = [None]*4\n",
    "for i in range(4):\n",
    "    new_grille[i] = list(['.']*4)\n",
    "new_grille[0][3]='X'\n",
    "print(new_grille)"
   ]
  },
  {
   "cell_type": "code",
   "execution_count": null,
   "metadata": {
    "collapsed": false
   },
   "outputs": [],
   "source": []
  },
  {
   "cell_type": "code",
   "execution_count": null,
   "metadata": {
    "collapsed": true
   },
   "outputs": [],
   "source": []
  },
  {
   "cell_type": "code",
   "execution_count": null,
   "metadata": {
    "collapsed": true
   },
   "outputs": [],
   "source": []
  }
 ],
 "metadata": {
  "anaconda-cloud": {},
  "kernelspec": {
   "display_name": "Python [conda root]",
   "language": "python",
   "name": "conda-root-py"
  },
  "language_info": {
   "codemirror_mode": {
    "name": "ipython",
    "version": 3
   },
   "file_extension": ".py",
   "mimetype": "text/x-python",
   "name": "python",
   "nbconvert_exporter": "python",
   "pygments_lexer": "ipython3",
   "version": "3.5.2"
  }
 },
 "nbformat": 4,
 "nbformat_minor": 1
}
